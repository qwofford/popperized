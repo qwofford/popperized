{
 "cells": [
  {
   "cell_type": "code",
   "execution_count": 1,
   "metadata": {},
   "outputs": [
    {
     "name": "stdout",
     "output_type": "stream",
     "text": [
      "Populating the interactive namespace from numpy and matplotlib\n"
     ]
    }
   ],
   "source": [
    "%pylab inline\n",
    "\n",
    "import pandas as pd"
   ]
  },
  {
   "cell_type": "markdown",
   "metadata": {},
   "source": [
    "## Easy to load\n",
    "\n",
    "Note: If you haven't done so yet, generate a \"result.csv\" file by runnning ```make result``` from the command line in the parent directory of this git repository"
   ]
  },
  {
   "cell_type": "code",
   "execution_count": 2,
   "metadata": {},
   "outputs": [],
   "source": [
    "df = pd.read_csv('../data_generator/results/result.csv')"
   ]
  },
  {
   "cell_type": "code",
   "execution_count": 3,
   "metadata": {},
   "outputs": [
    {
     "data": {
      "text/html": [
       "<div>\n",
       "<style scoped>\n",
       "    .dataframe tbody tr th:only-of-type {\n",
       "        vertical-align: middle;\n",
       "    }\n",
       "\n",
       "    .dataframe tbody tr th {\n",
       "        vertical-align: top;\n",
       "    }\n",
       "\n",
       "    .dataframe thead th {\n",
       "        text-align: right;\n",
       "    }\n",
       "</style>\n",
       "<table border=\"1\" class=\"dataframe\">\n",
       "  <thead>\n",
       "    <tr style=\"text-align: right;\">\n",
       "      <th></th>\n",
       "      <th>here</th>\n",
       "      <th>is</th>\n",
       "      <th>a</th>\n",
       "      <th>sample</th>\n",
       "      <th>header</th>\n",
       "      <th>to</th>\n",
       "      <th>try</th>\n",
       "    </tr>\n",
       "  </thead>\n",
       "  <tbody>\n",
       "    <tr>\n",
       "      <th>0</th>\n",
       "      <td>2322</td>\n",
       "      <td>6467</td>\n",
       "      <td>2742</td>\n",
       "      <td>1252</td>\n",
       "      <td>1357</td>\n",
       "      <td>1244</td>\n",
       "      <td>3412</td>\n",
       "    </tr>\n",
       "    <tr>\n",
       "      <th>1</th>\n",
       "      <td>3367</td>\n",
       "      <td>62</td>\n",
       "      <td>7301</td>\n",
       "      <td>3711</td>\n",
       "      <td>2202</td>\n",
       "      <td>2306</td>\n",
       "      <td>6213</td>\n",
       "    </tr>\n",
       "    <tr>\n",
       "      <th>2</th>\n",
       "      <td>6141</td>\n",
       "      <td>3204</td>\n",
       "      <td>3360</td>\n",
       "      <td>7726</td>\n",
       "      <td>1301</td>\n",
       "      <td>2547</td>\n",
       "      <td>4271</td>\n",
       "    </tr>\n",
       "    <tr>\n",
       "      <th>3</th>\n",
       "      <td>17</td>\n",
       "      <td>4030</td>\n",
       "      <td>1736</td>\n",
       "      <td>1637</td>\n",
       "      <td>7725</td>\n",
       "      <td>3236</td>\n",
       "      <td>6030</td>\n",
       "    </tr>\n",
       "    <tr>\n",
       "      <th>4</th>\n",
       "      <td>2565</td>\n",
       "      <td>2343</td>\n",
       "      <td>4062</td>\n",
       "      <td>3157</td>\n",
       "      <td>1643</td>\n",
       "      <td>532</td>\n",
       "      <td>4752</td>\n",
       "    </tr>\n",
       "  </tbody>\n",
       "</table>\n",
       "</div>"
      ],
      "text/plain": [
       "   here    is     a  sample  header    to   try\n",
       "0  2322  6467  2742    1252    1357  1244  3412\n",
       "1  3367    62  7301    3711    2202  2306  6213\n",
       "2  6141  3204  3360    7726    1301  2547  4271\n",
       "3    17  4030  1736    1637    7725  3236  6030\n",
       "4  2565  2343  4062    3157    1643   532  4752"
      ]
     },
     "execution_count": 3,
     "metadata": {},
     "output_type": "execute_result"
    }
   ],
   "source": [
    "df.head()"
   ]
  },
  {
   "cell_type": "markdown",
   "metadata": {},
   "source": [
    "## Quick to analyze"
   ]
  },
  {
   "cell_type": "code",
   "execution_count": 4,
   "metadata": {},
   "outputs": [
    {
     "data": {
      "text/html": [
       "<div>\n",
       "<style scoped>\n",
       "    .dataframe tbody tr th:only-of-type {\n",
       "        vertical-align: middle;\n",
       "    }\n",
       "\n",
       "    .dataframe tbody tr th {\n",
       "        vertical-align: top;\n",
       "    }\n",
       "\n",
       "    .dataframe thead th {\n",
       "        text-align: right;\n",
       "    }\n",
       "</style>\n",
       "<table border=\"1\" class=\"dataframe\">\n",
       "  <thead>\n",
       "    <tr style=\"text-align: right;\">\n",
       "      <th></th>\n",
       "      <th>here</th>\n",
       "      <th>is</th>\n",
       "      <th>a</th>\n",
       "      <th>sample</th>\n",
       "      <th>header</th>\n",
       "      <th>to</th>\n",
       "      <th>try</th>\n",
       "    </tr>\n",
       "  </thead>\n",
       "  <tbody>\n",
       "    <tr>\n",
       "      <th>count</th>\n",
       "      <td>2500.000000</td>\n",
       "      <td>2500.000000</td>\n",
       "      <td>2500.000000</td>\n",
       "      <td>2500.000000</td>\n",
       "      <td>2500.000000</td>\n",
       "      <td>2500.000000</td>\n",
       "      <td>2500.000000</td>\n",
       "    </tr>\n",
       "    <tr>\n",
       "      <th>mean</th>\n",
       "      <td>3890.736000</td>\n",
       "      <td>3852.694400</td>\n",
       "      <td>3869.284000</td>\n",
       "      <td>3816.940000</td>\n",
       "      <td>3873.069600</td>\n",
       "      <td>3925.309200</td>\n",
       "      <td>3950.454800</td>\n",
       "    </tr>\n",
       "    <tr>\n",
       "      <th>std</th>\n",
       "      <td>2310.652104</td>\n",
       "      <td>2290.774171</td>\n",
       "      <td>2283.270721</td>\n",
       "      <td>2306.059916</td>\n",
       "      <td>2299.080693</td>\n",
       "      <td>2292.342965</td>\n",
       "      <td>2295.604315</td>\n",
       "    </tr>\n",
       "    <tr>\n",
       "      <th>min</th>\n",
       "      <td>2.000000</td>\n",
       "      <td>4.000000</td>\n",
       "      <td>4.000000</td>\n",
       "      <td>0.000000</td>\n",
       "      <td>0.000000</td>\n",
       "      <td>1.000000</td>\n",
       "      <td>1.000000</td>\n",
       "    </tr>\n",
       "    <tr>\n",
       "      <th>25%</th>\n",
       "      <td>1775.000000</td>\n",
       "      <td>1759.000000</td>\n",
       "      <td>2036.500000</td>\n",
       "      <td>1730.750000</td>\n",
       "      <td>1751.000000</td>\n",
       "      <td>2024.000000</td>\n",
       "      <td>2048.750000</td>\n",
       "    </tr>\n",
       "    <tr>\n",
       "      <th>50%</th>\n",
       "      <td>3755.000000</td>\n",
       "      <td>3711.000000</td>\n",
       "      <td>3773.000000</td>\n",
       "      <td>3731.000000</td>\n",
       "      <td>3775.500000</td>\n",
       "      <td>4030.500000</td>\n",
       "      <td>4045.500000</td>\n",
       "    </tr>\n",
       "    <tr>\n",
       "      <th>75%</th>\n",
       "      <td>6006.250000</td>\n",
       "      <td>5715.250000</td>\n",
       "      <td>5753.750000</td>\n",
       "      <td>5757.000000</td>\n",
       "      <td>5741.000000</td>\n",
       "      <td>6033.250000</td>\n",
       "      <td>6053.500000</td>\n",
       "    </tr>\n",
       "    <tr>\n",
       "      <th>max</th>\n",
       "      <td>7772.000000</td>\n",
       "      <td>7776.000000</td>\n",
       "      <td>7773.000000</td>\n",
       "      <td>7777.000000</td>\n",
       "      <td>7777.000000</td>\n",
       "      <td>7776.000000</td>\n",
       "      <td>7777.000000</td>\n",
       "    </tr>\n",
       "  </tbody>\n",
       "</table>\n",
       "</div>"
      ],
      "text/plain": [
       "              here           is            a       sample       header  \\\n",
       "count  2500.000000  2500.000000  2500.000000  2500.000000  2500.000000   \n",
       "mean   3890.736000  3852.694400  3869.284000  3816.940000  3873.069600   \n",
       "std    2310.652104  2290.774171  2283.270721  2306.059916  2299.080693   \n",
       "min       2.000000     4.000000     4.000000     0.000000     0.000000   \n",
       "25%    1775.000000  1759.000000  2036.500000  1730.750000  1751.000000   \n",
       "50%    3755.000000  3711.000000  3773.000000  3731.000000  3775.500000   \n",
       "75%    6006.250000  5715.250000  5753.750000  5757.000000  5741.000000   \n",
       "max    7772.000000  7776.000000  7773.000000  7777.000000  7777.000000   \n",
       "\n",
       "                to          try  \n",
       "count  2500.000000  2500.000000  \n",
       "mean   3925.309200  3950.454800  \n",
       "std    2292.342965  2295.604315  \n",
       "min       1.000000     1.000000  \n",
       "25%    2024.000000  2048.750000  \n",
       "50%    4030.500000  4045.500000  \n",
       "75%    6033.250000  6053.500000  \n",
       "max    7776.000000  7777.000000  "
      ]
     },
     "execution_count": 4,
     "metadata": {},
     "output_type": "execute_result"
    }
   ],
   "source": [
    "df.describe()"
   ]
  },
  {
   "cell_type": "code",
   "execution_count": 5,
   "metadata": {},
   "outputs": [
    {
     "data": {
      "image/png": "[encoded data removed]",
      "text/plain": [
       "<Figure size 432x288 with 1 Axes>"
      ]
     },
     "metadata": {
      "needs_background": "light"
     },
     "output_type": "display_data"
    }
   ],
   "source": [
    "_=df['sample'].plot(kind='hist',bins=10)"
   ]
  },
  {
   "cell_type": "markdown",
   "metadata": {},
   "source": [
    "## Easy filtering"
   ]
  },
  {
   "cell_type": "code",
   "execution_count": 6,
   "metadata": {},
   "outputs": [],
   "source": [
    "mask = range(2000,2500)"
   ]
  },
  {
   "cell_type": "code",
   "execution_count": 7,
   "metadata": {},
   "outputs": [
    {
     "data": {
      "text/html": [
       "<div>\n",
       "<style scoped>\n",
       "    .dataframe tbody tr th:only-of-type {\n",
       "        vertical-align: middle;\n",
       "    }\n",
       "\n",
       "    .dataframe tbody tr th {\n",
       "        vertical-align: top;\n",
       "    }\n",
       "\n",
       "    .dataframe thead th {\n",
       "        text-align: right;\n",
       "    }\n",
       "</style>\n",
       "<table border=\"1\" class=\"dataframe\">\n",
       "  <thead>\n",
       "    <tr style=\"text-align: right;\">\n",
       "      <th></th>\n",
       "      <th>here</th>\n",
       "      <th>is</th>\n",
       "      <th>a</th>\n",
       "      <th>sample</th>\n",
       "      <th>header</th>\n",
       "      <th>to</th>\n",
       "      <th>try</th>\n",
       "    </tr>\n",
       "  </thead>\n",
       "  <tbody>\n",
       "    <tr>\n",
       "      <th>27</th>\n",
       "      <td>4130</td>\n",
       "      <td>1505</td>\n",
       "      <td>1070</td>\n",
       "      <td>2031</td>\n",
       "      <td>1435</td>\n",
       "      <td>5741</td>\n",
       "      <td>4200</td>\n",
       "    </tr>\n",
       "    <tr>\n",
       "      <th>30</th>\n",
       "      <td>4012</td>\n",
       "      <td>1450</td>\n",
       "      <td>7442</td>\n",
       "      <td>2326</td>\n",
       "      <td>6045</td>\n",
       "      <td>5024</td>\n",
       "      <td>2613</td>\n",
       "    </tr>\n",
       "    <tr>\n",
       "      <th>41</th>\n",
       "      <td>3127</td>\n",
       "      <td>5421</td>\n",
       "      <td>5417</td>\n",
       "      <td>2137</td>\n",
       "      <td>6377</td>\n",
       "      <td>1700</td>\n",
       "      <td>4326</td>\n",
       "    </tr>\n",
       "    <tr>\n",
       "      <th>57</th>\n",
       "      <td>3505</td>\n",
       "      <td>107</td>\n",
       "      <td>6445</td>\n",
       "      <td>2236</td>\n",
       "      <td>1744</td>\n",
       "      <td>4357</td>\n",
       "      <td>6231</td>\n",
       "    </tr>\n",
       "    <tr>\n",
       "      <th>58</th>\n",
       "      <td>6142</td>\n",
       "      <td>3351</td>\n",
       "      <td>7701</td>\n",
       "      <td>2056</td>\n",
       "      <td>6755</td>\n",
       "      <td>5663</td>\n",
       "      <td>6224</td>\n",
       "    </tr>\n",
       "  </tbody>\n",
       "</table>\n",
       "</div>"
      ],
      "text/plain": [
       "    here    is     a  sample  header    to   try\n",
       "27  4130  1505  1070    2031    1435  5741  4200\n",
       "30  4012  1450  7442    2326    6045  5024  2613\n",
       "41  3127  5421  5417    2137    6377  1700  4326\n",
       "57  3505   107  6445    2236    1744  4357  6231\n",
       "58  6142  3351  7701    2056    6755  5663  6224"
      ]
     },
     "execution_count": 7,
     "metadata": {},
     "output_type": "execute_result"
    }
   ],
   "source": [
    "df_filt = df[df['sample'].isin(mask)]\n",
    "df_filt.head()"
   ]
  },
  {
   "cell_type": "code",
   "execution_count": 8,
   "metadata": {},
   "outputs": [
    {
     "data": {
      "image/png": "[encoded data removed]",
      "text/plain": [
       "<Figure size 432x288 with 1 Axes>"
      ]
     },
     "metadata": {
      "needs_background": "light"
     },
     "output_type": "display_data"
    }
   ],
   "source": [
    "_=df_filt['sample'].plot(kind='hist',bins=10)"
   ]
  },
  {
   "cell_type": "markdown",
   "metadata": {},
   "source": [
    "# Distribution fitting"
   ]
  },
  {
   "cell_type": "code",
   "execution_count": 9,
   "metadata": {},
   "outputs": [],
   "source": [
    "import numpy as np\n",
    "import matplotlib.pyplot as plt\n",
    "import scipy.stats as stats"
   ]
  },
  {
   "cell_type": "code",
   "execution_count": 10,
   "metadata": {},
   "outputs": [],
   "source": [
    "# Distribution-fitting method outline from http://www.insightsbot.com/blog/WEjdW/fitting-probability-distributions-with-python-part-1\n",
    "\n",
    "def fit_dist(samples):\n",
    "    dist_tests = ['norm', 'expon', 'uniform', 'rayleigh']\n",
    "    dist_results = []\n",
    "    params = {}\n",
    "    for dist_name in dist_tests:\n",
    "\n",
    "        # Fit sample data to distribution\n",
    "        dist = getattr(stats, dist_name)\n",
    "        param = dist.fit(samples)\n",
    "        params[dist_name] = param\n",
    "\n",
    "        # Run the Kolmogorov-Smirnov test on the distribution\n",
    "        D, p = stats.kstest(samples, dist_name, args = param)\n",
    "\n",
    "        dist_results.append((dist_name, p))\n",
    "\n",
    "    print(\"Kolmogorov-Smirnov test results\")\n",
    "    for result in dist_results:\n",
    "        print(\"%15s\\t: %f\"%(result[0], result[1]))\n",
    "    dist_guess, p = (max(dist_results, key=lambda item:item[1]))\n",
    "    print()\n",
    "    print(\"Distribution guess is %s with a p value of %f\"%(dist_guess, p))\n",
    "    print()"
   ]
  },
  {
   "cell_type": "code",
   "execution_count": 51,
   "metadata": {},
   "outputs": [
    {
     "name": "stdout",
     "output_type": "stream",
     "text": [
      "Testing distrubutions on 'here' column\n",
      "\n",
      "Kolmogorov-Smirnov test results\n",
      "           norm\t: 0.000000\n",
      "          expon\t: 0.000000\n",
      "        uniform\t: 0.036352\n",
      "       rayleigh\t: 0.000000\n",
      "\n",
      "Distribution guess is uniform with a p value of 0.036352\n",
      "\n",
      "=============================================================\n",
      "Testing distrubutions on 'is' column\n",
      "\n",
      "Kolmogorov-Smirnov test results\n",
      "           norm\t: 0.000000\n",
      "          expon\t: 0.000000\n",
      "        uniform\t: 0.061328\n",
      "       rayleigh\t: 0.000000\n",
      "\n",
      "Distribution guess is uniform with a p value of 0.061328\n",
      "\n",
      "=============================================================\n",
      "Testing distrubutions on 'a' column\n",
      "\n",
      "Kolmogorov-Smirnov test results\n",
      "           norm\t: 0.000000\n",
      "          expon\t: 0.000000\n",
      "        uniform\t: 0.080947\n",
      "       rayleigh\t: 0.000000\n",
      "\n",
      "Distribution guess is uniform with a p value of 0.080947\n",
      "\n",
      "=============================================================\n",
      "Testing distrubutions on 'sample' column\n",
      "\n",
      "Kolmogorov-Smirnov test results\n",
      "           norm\t: 0.000000\n",
      "          expon\t: 0.000000\n",
      "        uniform\t: 0.002940\n",
      "       rayleigh\t: 0.000000\n",
      "\n",
      "Distribution guess is uniform with a p value of 0.002940\n",
      "\n",
      "=============================================================\n",
      "Testing distrubutions on 'header' column\n",
      "\n",
      "Kolmogorov-Smirnov test results\n",
      "           norm\t: 0.000000\n",
      "          expon\t: 0.000000\n",
      "        uniform\t: 0.035441\n",
      "       rayleigh\t: 0.000000\n",
      "\n",
      "Distribution guess is uniform with a p value of 0.035441\n",
      "\n",
      "=============================================================\n",
      "Testing distrubutions on 'to' column\n",
      "\n",
      "Kolmogorov-Smirnov test results\n",
      "           norm\t: 0.000000\n",
      "          expon\t: 0.000000\n",
      "        uniform\t: 0.023474\n",
      "       rayleigh\t: 0.000000\n",
      "\n",
      "Distribution guess is uniform with a p value of 0.023474\n",
      "\n",
      "=============================================================\n",
      "Testing distrubutions on 'try' column\n",
      "\n",
      "Kolmogorov-Smirnov test results\n",
      "           norm\t: 0.000000\n",
      "          expon\t: 0.000000\n",
      "        uniform\t: 0.007555\n",
      "       rayleigh\t: 0.000000\n",
      "\n",
      "Distribution guess is uniform with a p value of 0.007555\n",
      "\n",
      "=============================================================\n"
     ]
    }
   ],
   "source": [
    "# Test each of our columns for \n",
    "for col in df.columns:\n",
    "    print(\"Testing distrubutions on '%s' column\\n\"%col)\n",
    "    fit_dist(df.get(col))\n",
    "    print(\"=============================================================\")\n",
    "    \n"
   ]
  },
  {
   "cell_type": "markdown",
   "metadata": {},
   "source": [
    "## Easy to export to RLDB (from Python or from BASH)"
   ]
  },
  {
   "cell_type": "code",
   "execution_count": 13,
   "metadata": {},
   "outputs": [
    {
     "name": "stderr",
     "output_type": "stream",
     "text": [
      "/usr/local/lib/python3.6/dist-packages/psycopg2/__init__.py:144: UserWarning: The psycopg2 wheel package will be renamed from release 2.8; in order to keep installing from binary please use \"pip install psycopg2-binary\" instead. For details see: <http://initd.org/psycopg/docs/install.html#binary-install-from-pypi>.\n",
      "  \"\"\")\n"
     ]
    }
   ],
   "source": [
    "import psycopg2 as sql"
   ]
  },
  {
   "cell_type": "code",
   "execution_count": 14,
   "metadata": {},
   "outputs": [],
   "source": [
    "SQL_STATEMENT = \"\"\"\n",
    "    COPY %s FROM STDIN WITH\n",
    "        CSV\n",
    "        HEADER\n",
    "        DELIMITER AS ','\n",
    "\"\"\""
   ]
  },
  {
   "cell_type": "code",
   "execution_count": 15,
   "metadata": {},
   "outputs": [],
   "source": [
    "def csv2db(conn, table_name, fh):\n",
    "    cursor = conn.cursor()\n",
    "    cursor.copy_expert(sql=SQL_STATEMENT % table_name, file=fh)\n",
    "    conn.commit()\n",
    "    cursor.close()"
   ]
  },
  {
   "cell_type": "code",
   "execution_count": 16,
   "metadata": {},
   "outputs": [
    {
     "ename": "OperationalError",
     "evalue": "could not connect to server: No such file or directory\n\tIs the server running locally and accepting\n\tconnections on Unix domain socket \"/var/run/postgresql/.s.PGSQL.5432\"?\n",
     "output_type": "error",
     "traceback": [
      "\u001b[0;31m---------------------------------------------------------------------------\u001b[0m",
      "\u001b[0;31mOperationalError\u001b[0m                          Traceback (most recent call last)",
      "\u001b[0;32m<ipython-input-16-eb1bdd460598>\u001b[0m in \u001b[0;36m<module>\u001b[0;34m()\u001b[0m\n\u001b[0;32m----> 1\u001b[0;31m \u001b[0mconnection\u001b[0m \u001b[0;34m=\u001b[0m \u001b[0msql\u001b[0m\u001b[0;34m.\u001b[0m\u001b[0mconnect\u001b[0m\u001b[0;34m(\u001b[0m\u001b[0;34m\"dbname=cdse user=qwofford password=NOTMYPASSWORD\"\u001b[0m\u001b[0;34m)\u001b[0m\u001b[0;34m\u001b[0m\u001b[0;34m\u001b[0m\u001b[0m\n\u001b[0m\u001b[1;32m      2\u001b[0m \u001b[0;32mtry\u001b[0m\u001b[0;34m:\u001b[0m\u001b[0;34m\u001b[0m\u001b[0;34m\u001b[0m\u001b[0m\n\u001b[1;32m      3\u001b[0m     \u001b[0mcsv2db\u001b[0m\u001b[0;34m(\u001b[0m\u001b[0mconnection\u001b[0m\u001b[0;34m,\u001b[0m\u001b[0;34m'master'\u001b[0m\u001b[0;34m,\u001b[0m\u001b[0mfh\u001b[0m\u001b[0;34m)\u001b[0m\u001b[0;34m\u001b[0m\u001b[0;34m\u001b[0m\u001b[0m\n\u001b[1;32m      4\u001b[0m \u001b[0;32mfinally\u001b[0m\u001b[0;34m:\u001b[0m\u001b[0;34m\u001b[0m\u001b[0;34m\u001b[0m\u001b[0m\n\u001b[1;32m      5\u001b[0m     \u001b[0mconnection\u001b[0m\u001b[0;34m.\u001b[0m\u001b[0mclose\u001b[0m\u001b[0;34m(\u001b[0m\u001b[0;34m)\u001b[0m\u001b[0;34m\u001b[0m\u001b[0;34m\u001b[0m\u001b[0m\n",
      "\u001b[0;32m/usr/local/lib/python3.6/dist-packages/psycopg2/__init__.py\u001b[0m in \u001b[0;36mconnect\u001b[0;34m(dsn, connection_factory, cursor_factory, **kwargs)\u001b[0m\n\u001b[1;32m    128\u001b[0m \u001b[0;34m\u001b[0m\u001b[0m\n\u001b[1;32m    129\u001b[0m     \u001b[0mdsn\u001b[0m \u001b[0;34m=\u001b[0m \u001b[0m_ext\u001b[0m\u001b[0;34m.\u001b[0m\u001b[0mmake_dsn\u001b[0m\u001b[0;34m(\u001b[0m\u001b[0mdsn\u001b[0m\u001b[0;34m,\u001b[0m \u001b[0;34m**\u001b[0m\u001b[0mkwargs\u001b[0m\u001b[0;34m)\u001b[0m\u001b[0;34m\u001b[0m\u001b[0;34m\u001b[0m\u001b[0m\n\u001b[0;32m--> 130\u001b[0;31m     \u001b[0mconn\u001b[0m \u001b[0;34m=\u001b[0m \u001b[0m_connect\u001b[0m\u001b[0;34m(\u001b[0m\u001b[0mdsn\u001b[0m\u001b[0;34m,\u001b[0m \u001b[0mconnection_factory\u001b[0m\u001b[0;34m=\u001b[0m\u001b[0mconnection_factory\u001b[0m\u001b[0;34m,\u001b[0m \u001b[0;34m**\u001b[0m\u001b[0mkwasync\u001b[0m\u001b[0;34m)\u001b[0m\u001b[0;34m\u001b[0m\u001b[0;34m\u001b[0m\u001b[0m\n\u001b[0m\u001b[1;32m    131\u001b[0m     \u001b[0;32mif\u001b[0m \u001b[0mcursor_factory\u001b[0m \u001b[0;32mis\u001b[0m \u001b[0;32mnot\u001b[0m \u001b[0;32mNone\u001b[0m\u001b[0;34m:\u001b[0m\u001b[0;34m\u001b[0m\u001b[0;34m\u001b[0m\u001b[0m\n\u001b[1;32m    132\u001b[0m         \u001b[0mconn\u001b[0m\u001b[0;34m.\u001b[0m\u001b[0mcursor_factory\u001b[0m \u001b[0;34m=\u001b[0m \u001b[0mcursor_factory\u001b[0m\u001b[0;34m\u001b[0m\u001b[0;34m\u001b[0m\u001b[0m\n",
      "\u001b[0;31mOperationalError\u001b[0m: could not connect to server: No such file or directory\n\tIs the server running locally and accepting\n\tconnections on Unix domain socket \"/var/run/postgresql/.s.PGSQL.5432\"?\n"
     ]
    }
   ],
   "source": [
    "connection = sql.connect(\"dbname=cdse user=qwofford password=NOTMYPASSWORD\")\n",
    "try:\n",
    "    csv2db(connection,'master',fh)\n",
    "finally:\n",
    "    connection.close()"
   ]
  }
 ],
 "metadata": {
  "kernelspec": {
   "display_name": "Python 3",
   "language": "python",
   "name": "python3"
  },
  "language_info": {
   "codemirror_mode": {
    "name": "ipython",
    "version": 3
   },
   "file_extension": ".py",
   "mimetype": "text/x-python",
   "name": "python",
   "nbconvert_exporter": "python",
   "pygments_lexer": "ipython3",
   "version": "3.6.7"
  }
 },
 "nbformat": 4,
 "nbformat_minor": 2
}
